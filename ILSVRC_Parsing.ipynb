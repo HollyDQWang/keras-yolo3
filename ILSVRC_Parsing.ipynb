{
 "cells": [
  {
   "cell_type": "code",
   "execution_count": 1,
   "metadata": {},
   "outputs": [],
   "source": [
    "import xml.etree.ElementTree as ET\n",
    "import os\n",
    "import numpy as np\n",
    "import re\n",
    "import shutil"
   ]
  },
  {
   "cell_type": "markdown",
   "metadata": {},
   "source": [
    "# Moving files with annotations \n",
    "\n",
    "out of ~2700 images, only 670 images were annotated"
   ]
  },
  {
   "cell_type": "code",
   "execution_count": 2,
   "metadata": {},
   "outputs": [],
   "source": [
    "images_from_path = 'ILSVRC/train'\n",
    "annotation_from_path = 'ILSVRC/annot'\n",
    "target_train_path = 'ILSVRC/train_1'\n",
    "target_train_annot_path = 'ILSVRC/train_annot'"
   ]
  },
  {
   "cell_type": "code",
   "execution_count": 3,
   "metadata": {},
   "outputs": [],
   "source": [
    "def mv_files_with_annotations(images_from_path,annotation_from_path,final_path_image,final_path_annot):\n",
    "    image_files = [image_name for image_name in os.listdir(images_from_path)]\n",
    "    annotation_files = [image_name for image_name in os.listdir(annotation_from_path)]\n",
    "    counter=0\n",
    "    for i in annotation_files:\n",
    "        ann = i.split('.')[0]\n",
    "        for x in image_files:\n",
    "            img = x.split('.')[0]\n",
    "            if ann == img:\n",
    "                counter+=1\n",
    "                file_from_image = images_from_path+\"/\"+x\n",
    "                shutil.move(file_from_image, final_path_image)\n",
    "                file_from_annot = annotation_from_path+\"/\"+i\n",
    "                shutil.move(file_from_annot, final_path_annot)"
   ]
  },
  {
   "cell_type": "code",
   "execution_count": 4,
   "metadata": {},
   "outputs": [],
   "source": [
    "mv_files_with_annotations(images_from_path,annotation_from_path,target_train_path,target_train_annot_path)"
   ]
  },
  {
   "cell_type": "code",
   "execution_count": 19,
   "metadata": {},
   "outputs": [],
   "source": [
    "target_train_path = 'ILSVRC/train'\n",
    "target_train_annot_path = 'ILSVRC/train_annot'"
   ]
  },
  {
   "cell_type": "code",
   "execution_count": 26,
   "metadata": {},
   "outputs": [],
   "source": [
    "image_files = [image_name.split('.')[0] for image_name in os.listdir(target_train_path)]\n",
    "annotation_files = [image_name.split('.')[0] for image_name in os.listdir(target_train_annot_path)]"
   ]
  },
  {
   "cell_type": "code",
   "execution_count": 30,
   "metadata": {},
   "outputs": [],
   "source": [
    "with open('MIR_ILSVRC_train.txt') as f:\n",
    "    content = f.readlines()"
   ]
  },
  {
   "cell_type": "code",
   "execution_count": 31,
   "metadata": {},
   "outputs": [],
   "source": [
    "check = ['ILSVRC/train/' + c for c in os.listdir('ILSVRC/train')]"
   ]
  },
  {
   "cell_type": "code",
   "execution_count": 32,
   "metadata": {},
   "outputs": [],
   "source": [
    "for c in check:\n",
    "    if c not in [file_n.split(' ')[0] for file_n in content]:\n",
    "        print(c)"
   ]
  },
  {
   "cell_type": "markdown",
   "metadata": {},
   "source": [
    "# Parsing XML annotations"
   ]
  },
  {
   "cell_type": "code",
   "execution_count": 34,
   "metadata": {},
   "outputs": [],
   "source": [
    "def get_bndbox(path):\n",
    "    \"\"\"Get bouning box coordinates for image with id ``imageid``\n",
    "    in synset given by ``classidx``.\"\"\"\n",
    "    xmltree = ET.parse(path)\n",
    "    objects = xmltree.findall(\"object\")\n",
    "    result = []\n",
    "    for object_iter in objects:\n",
    "        bndbox = object_iter.find(\"bndbox\")\n",
    "        result.append([int(it.text) for it in bndbox])\n",
    "    #[xmin, ymin, xmax, ymax] = [it.text for it in bndbox]\n",
    "    return result"
   ]
  },
  {
   "cell_type": "code",
   "execution_count": 35,
   "metadata": {},
   "outputs": [],
   "source": [
    "annot_path = 'ILSVRC/train_annot/'"
   ]
  },
  {
   "cell_type": "code",
   "execution_count": 36,
   "metadata": {},
   "outputs": [],
   "source": [
    "target_train_path = 'ILSVRC/train'"
   ]
  },
  {
   "cell_type": "code",
   "execution_count": 37,
   "metadata": {},
   "outputs": [],
   "source": [
    "file = open('ILSVRC_train.txt','w')\n",
    "for annot_f in os.listdir(annot_path):\n",
    "    bndboxes = get_bndbox(annot_path+\"/\"+annot_f)\n",
    "    line = target_train_path+\"/\"+annot_f.split('.')[0]+\".JPEG \"\n",
    "    for bndbox_i in range(0,len(bndboxes)):\n",
    "        counter = 1\n",
    "        for coord in bndboxes[bndbox_i]:\n",
    "            line=line+str(coord)+\",\"\n",
    "            if counter == 4:\n",
    "                line=line+\"0\"\n",
    "            counter+=1\n",
    "        if bndbox_i < len(bndboxes)-1:\n",
    "            line = line+\" \"\n",
    "        elif bndbox_i == len(bndboxes)-1:\n",
    "            line = line+\"\\n\"                      \n",
    "    file.write(line)\n",
    "file.close()"
   ]
  },
  {
   "cell_type": "code",
   "execution_count": 13,
   "metadata": {},
   "outputs": [],
   "source": [
    "file = open('MIR_ILSVRC_train.txt','a')"
   ]
  },
  {
   "cell_type": "code",
   "execution_count": 15,
   "metadata": {},
   "outputs": [],
   "source": [
    "file.close()"
   ]
  },
  {
   "cell_type": "code",
   "execution_count": null,
   "metadata": {},
   "outputs": [],
   "source": []
  }
 ],
 "metadata": {
  "kernelspec": {
   "display_name": "Python 3",
   "language": "python",
   "name": "python3"
  },
  "language_info": {
   "codemirror_mode": {
    "name": "ipython",
    "version": 3
   },
   "file_extension": ".py",
   "mimetype": "text/x-python",
   "name": "python",
   "nbconvert_exporter": "python",
   "pygments_lexer": "ipython3",
   "version": "3.6.6"
  }
 },
 "nbformat": 4,
 "nbformat_minor": 2
}
