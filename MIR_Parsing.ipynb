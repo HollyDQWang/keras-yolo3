{
 "cells": [
  {
   "cell_type": "code",
   "execution_count": 10,
   "metadata": {},
   "outputs": [],
   "source": [
    "import json\n",
    "import os"
   ]
  },
  {
   "cell_type": "code",
   "execution_count": null,
   "metadata": {},
   "outputs": [],
   "source": [
    "with open(\"PPMI_/PPMI_train_labels.json\", \"r\") as write_file:\n",
    "    labels_box = json.load(write_file)"
   ]
  },
  {
   "cell_type": "code",
   "execution_count": 3,
   "metadata": {},
   "outputs": [],
   "source": [
    "with open(\"PPMI_/export-2019-03-03T04_31_10.078Z.json\", \"r\") as write_file:\n",
    "    labels_box = json.load(write_file)"
   ]
  },
  {
   "cell_type": "code",
   "execution_count": 7,
   "metadata": {},
   "outputs": [],
   "source": [
    "labels_box = {i['External ID']:i['Label']['guitar'] for i in labels_box}\n",
    "test_images_list=os.listdir('C:/Users/StanfordCDR/keras-yolo3/PPMI_/test')"
   ]
  },
  {
   "cell_type": "code",
   "execution_count": 13,
   "metadata": {},
   "outputs": [],
   "source": [
    "file = open('MIR_test.txt','w') \n",
    "for i in labels_box:\n",
    "    box = \"PPMI_/test/\"+i+\" \"\n",
    "    if i in test_images_list:\n",
    "        for geom in range(0,len(labels_box[i])):\n",
    "            counter = 1\n",
    "            for axis in labels_box[i][geom]['geometry']:\n",
    "                if counter == 1:\n",
    "                    box += str(axis['x'])+\",\"\n",
    "                    box += str(axis['y'])+\",\" \n",
    "                elif counter == 3:\n",
    "                    box += str(axis['x'])+\",\"\n",
    "                    box += str(axis['y'])+\",\"\n",
    "                elif (counter == 4):\n",
    "                    box += \"0\"\n",
    "                counter += 1\n",
    "            if geom != len(labels_box[i])-1:\n",
    "                box+=' '\n",
    "            else:\n",
    "                file.write(box)\n",
    "                file.write('\\n')\n",
    "file.close()"
   ]
  },
  {
   "cell_type": "code",
   "execution_count": 5,
   "metadata": {
    "scrolled": false
   },
   "outputs": [],
   "source": [
    "file = open('MIR_train.txt','w') \n",
    "for i in labels_box:\n",
    "    box = \"PPMI_/train/\"+i+\" \"\n",
    "    for geom in range(0,len(labels_box[i])):\n",
    "        counter = 1\n",
    "        for axis in labels_box[i][geom]['geometry']:\n",
    "            if counter == 1:\n",
    "                box += str(axis['x'])+\",\"\n",
    "                box += str(axis['y'])+\",\" \n",
    "            elif counter == 3:\n",
    "                box += str(axis['x'])+\",\"\n",
    "                box += str(axis['y'])+\",\"\n",
    "            elif (counter == 4):\n",
    "                box += \"0\"\n",
    "            counter += 1\n",
    "        if geom != len(labels_box[i])-1:\n",
    "            box+=' '\n",
    "        else:\n",
    "            file.write(box)\n",
    "            file.write('\\n')\n",
    "file.close()"
   ]
  }
 ],
 "metadata": {
  "kernelspec": {
   "display_name": "Python 3",
   "language": "python",
   "name": "python3"
  },
  "language_info": {
   "codemirror_mode": {
    "name": "ipython",
    "version": 3
   },
   "file_extension": ".py",
   "mimetype": "text/x-python",
   "name": "python",
   "nbconvert_exporter": "python",
   "pygments_lexer": "ipython3",
   "version": "3.6.6"
  }
 },
 "nbformat": 4,
 "nbformat_minor": 2
}
