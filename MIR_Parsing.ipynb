{
 "cells": [
  {
   "cell_type": "code",
   "execution_count": 1,
   "metadata": {},
   "outputs": [],
   "source": [
    "import json\n",
    "import os"
   ]
  },
  {
   "cell_type": "code",
   "execution_count": 2,
   "metadata": {},
   "outputs": [],
   "source": [
    "with open(\"PPMI_/PPMI_train_labels.json\", \"r\") as write_file:\n",
    "    labels_box_train = json.load(write_file)"
   ]
  },
  {
   "cell_type": "code",
   "execution_count": 16,
   "metadata": {},
   "outputs": [],
   "source": [
    "with open(\"PPMI_/export-2019-03-03T04_31_10.078Z.json\", \"r\") as write_file:\n",
    "    labels_box_test = json.load(write_file)\n",
    "labels_box_test = {i['External ID']:i['Label']['guitar'] for i in labels_box_test}"
   ]
  },
  {
   "cell_type": "code",
   "execution_count": 11,
   "metadata": {},
   "outputs": [],
   "source": [
    "file = open('model_data/MIR_train.txt','w') \n",
    "for i in labels_box_train:\n",
    "    box = \"PPMI_/train/\"+i+\" \"\n",
    "    for geom in range(0,len(labels_box_train[i])):\n",
    "        input_boxes = labels_box_train[i][geom]['geometry']\n",
    "        x_min=float('Inf')\n",
    "        y_min=float('Inf')\n",
    "        x_max=-float('Inf')\n",
    "        y_max=-float('Inf')\n",
    "        for input_box in input_boxes:\n",
    "            input_x = input_box['x']\n",
    "            input_y = input_box['y']\n",
    "            if input_x < x_min:\n",
    "                x_min = input_x\n",
    "            elif input_x > x_max:\n",
    "                x_max = input_x\n",
    "            if input_y < y_min:\n",
    "                y_min = input_y\n",
    "            elif input_y > y_max:\n",
    "                y_max=input_y\n",
    "        box = box+str(x_min)+','+str(y_min)+','+str(x_max)+','+str(y_max)+','+str(0)+' '\n",
    "    file.write(box[:-1])\n",
    "    file.write('\\n')\n",
    "file.close()"
   ]
  },
  {
   "cell_type": "code",
   "execution_count": 17,
   "metadata": {},
   "outputs": [],
   "source": [
    "file = open('model_data/MIR_test.txt','w') \n",
    "for i in labels_box_test:\n",
    "    box = \"PPMI_/test/\"+i+\" \"\n",
    "    for geom in range(0,len(labels_box_test[i])):\n",
    "        input_boxes = labels_box_test[i][geom]['geometry']\n",
    "        x_min=float('Inf')\n",
    "        y_min=float('Inf')\n",
    "        x_max=-float('Inf')\n",
    "        y_max=-float('Inf')\n",
    "        for input_box in input_boxes:\n",
    "            input_x = input_box['x']\n",
    "            input_y = input_box['y']\n",
    "            if input_x < x_min:\n",
    "                x_min = input_x\n",
    "            elif input_x > x_max:\n",
    "                x_max = input_x\n",
    "            if input_y < y_min:\n",
    "                y_min = input_y\n",
    "            elif input_y > y_max:\n",
    "                y_max=input_y\n",
    "        box = box+str(x_min)+','+str(y_min)+','+str(x_max)+','+str(y_max)+','+str(0)+' '\n",
    "    file.write(box[:-1])\n",
    "    file.write('\\n')\n",
    "file.close()"
   ]
  },
  {
   "cell_type": "code",
   "execution_count": null,
   "metadata": {},
   "outputs": [],
   "source": []
  }
 ],
 "metadata": {
  "kernelspec": {
   "display_name": "Python 3",
   "language": "python",
   "name": "python3"
  },
  "language_info": {
   "codemirror_mode": {
    "name": "ipython",
    "version": 3
   },
   "file_extension": ".py",
   "mimetype": "text/x-python",
   "name": "python",
   "nbconvert_exporter": "python",
   "pygments_lexer": "ipython3",
   "version": "3.6.6"
  }
 },
 "nbformat": 4,
 "nbformat_minor": 2
}
