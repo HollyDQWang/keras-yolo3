{
 "cells": [
  {
   "cell_type": "code",
   "execution_count": 97,
   "metadata": {},
   "outputs": [],
   "source": [
    "import yolo_modified\n",
    "import cv2\n",
    "import numpy as np\n",
    "import os"
   ]
  },
  {
   "cell_type": "code",
   "execution_count": 2,
   "metadata": {},
   "outputs": [
    {
     "name": "stdout",
     "output_type": "stream",
     "text": [
      "logs/000/Jason_trained_weights_final.h5 model, anchors, and classes loaded.\n"
     ]
    }
   ],
   "source": [
    "model = yolo_modified.YOLO()\n",
    "image_f_path=(\"PPMI_/test\")\n",
    "label_path = \"model_data/MIR_test.txt\""
   ]
  },
  {
   "cell_type": "code",
   "execution_count": 76,
   "metadata": {},
   "outputs": [],
   "source": [
    "def bb_intersection_over_union(boxA, boxB):\n",
    "    # determine the (x, y)-coordinates of the intersection rectangle\n",
    "    xA = max(boxA[0], boxB[0])\n",
    "    yA = max(boxA[1], boxB[1])\n",
    "    xB = min(boxA[2], boxB[2])\n",
    "    yB = min(boxA[3], boxB[3])\n",
    "\n",
    "    # compute the area of intersection rectangle\n",
    "    interArea = max(0, xB - xA + 1) * max(0, yB - yA + 1)\n",
    "\n",
    "    # compute the area of both the prediction and ground-truth\n",
    "    # rectangles\n",
    "    boxAArea = (boxA[2] - boxA[0] + 1) * (boxA[3] - boxA[1] + 1)\n",
    "    boxBArea = (boxB[2] - boxB[0] + 1) * (boxB[3] - boxB[1] + 1)\n",
    "\n",
    "    # compute the intersection over union by taking the intersection\n",
    "    # area and dividing it by the sum of prediction + ground-truth\n",
    "    # areas - the interesection area\n",
    "    iou = interArea / float(boxAArea + boxBArea - interArea)\n",
    "\n",
    "    # return the intersection over union value\n",
    "    return iou"
   ]
  },
  {
   "cell_type": "code",
   "execution_count": 105,
   "metadata": {},
   "outputs": [],
   "source": [
    "def count_t_positive(boxA, boxB, threshold = 0.5):\n",
    "# Assume that boxA < boxB\n",
    "    TP = 0\n",
    "    for ground_t in boxA:\n",
    "        min_ind = 0\n",
    "        ind = 0\n",
    "        min_dist = float('Inf')\n",
    "        for out_box in boxB:\n",
    "            predict_box = np.array([out_box[1],out_box[0],out_box[3],out_box[2]])\n",
    "            dist = np.linalg.norm(predict_box-ground_t)\n",
    "            if dist < min_dist:\n",
    "                min_ind = ind\n",
    "                min_dist = dist\n",
    "            ind += 1\n",
    "        \n",
    "        closest_out_box = boxB[min_ind]\n",
    "        closest_out_box_m = np.array([closest_out_box[1],closest_out_box[0],closest_out_box[3],closest_out_box[2]])\n",
    "        if bb_intersection_over_union(ground_t,closest_out_box_m)>0.5:\n",
    "            TP+=1\n",
    "    return TP"
   ]
  },
  {
   "cell_type": "code",
   "execution_count": 106,
   "metadata": {},
   "outputs": [],
   "source": [
    "with open(label_path) as f:\n",
    "    content = f.readlines()\n",
    "    ground_truth = {i.split(' ')[0]:np.array([[int(aa[0]),int(aa[1]),int(aa[2]),int(aa[3])] \n",
    "                                              for aa in [x.split(',') for x in i.split(' ')[1:]]]) for i in content}"
   ]
  },
  {
   "cell_type": "code",
   "execution_count": null,
   "metadata": {
    "scrolled": true
   },
   "outputs": [],
   "source": [
    "ground_truth_N = 0\n",
    "prediction_N = 0\n",
    "\n",
    "False_positive = 0\n",
    "True_positive = 0 \n",
    "False_negative = 0 \n",
    "\n",
    "for image_path in os.listdir(image_f_path):\n",
    "    img_path = \"PPMI_/test/\"+image_path\n",
    "    frame = cv2.imread(img_path)\n",
    "    image = yolo_modified.Image.fromarray(frame)\n",
    "    out_boxes, __ , __ = model.detect_image_rectang(image)\n",
    "    ground_truth_boxes = ground_truth[img_path]\n",
    "    \n",
    "    N_p = len(out_boxes)\n",
    "    N_gt = len(ground_truth_boxes)\n",
    "    \n",
    "    prediction_N += N_p\n",
    "    ground_truth_N += N_gt\n",
    "    \n",
    "    if N_p > N_gt:\n",
    "        False_positive +=  (N_p - N_gt)\n",
    "        \n",
    "    \n",
    "    elif N_p < N_gt:\n",
    "        False_negative +=  (N_gt - N_p)\n",
    "        \n",
    "    \n",
    "    if N_p != 0 and N_gt != 0:\n",
    "        True_positive += count_t_positive(ground_truth_boxes,out_boxes)  \n",
    "print(\"Number of Observations: \"+ground_truth_N)\n",
    "print(\"Number of Predictions: \"+ prediction_N)\n",
    "print(\"Number of False Positives: \"+ False_positive)\n",
    "print(\"Number of False Negatives:\" + False_negative)\n",
    "print(\"Number of True Positives: \"+ True_positive)"
   ]
  },
  {
   "cell_type": "code",
   "execution_count": null,
   "metadata": {},
   "outputs": [],
   "source": []
  }
 ],
 "metadata": {
  "kernelspec": {
   "display_name": "Python 3",
   "language": "python",
   "name": "python3"
  },
  "language_info": {
   "codemirror_mode": {
    "name": "ipython",
    "version": 3
   },
   "file_extension": ".py",
   "mimetype": "text/x-python",
   "name": "python",
   "nbconvert_exporter": "python",
   "pygments_lexer": "ipython3",
   "version": "3.6.6"
  }
 },
 "nbformat": 4,
 "nbformat_minor": 2
}
